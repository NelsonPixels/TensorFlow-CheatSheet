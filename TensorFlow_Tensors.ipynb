{
  "nbformat": 4,
  "nbformat_minor": 0,
  "metadata": {
    "colab": {
      "provenance": [],
      "authorship_tag": "ABX9TyN/GUBf7ScFAx/wiSkLjTg1",
      "include_colab_link": true
    },
    "kernelspec": {
      "name": "python3",
      "display_name": "Python 3"
    },
    "language_info": {
      "name": "python"
    }
  },
  "cells": [
    {
      "cell_type": "markdown",
      "metadata": {
        "id": "view-in-github",
        "colab_type": "text"
      },
      "source": [
        "<a href=\"https://colab.research.google.com/github/NelsonPixels/TensorFlow-CheatSheet/blob/main/TensorFlow_Tensors.ipynb\" target=\"_parent\"><img src=\"https://colab.research.google.com/assets/colab-badge.svg\" alt=\"Open In Colab\"/></a>"
      ]
    },
    {
      "cell_type": "code",
      "execution_count": null,
      "metadata": {
        "id": "0VUGYO2ag6AX"
      },
      "outputs": [],
      "source": [
        "import tensorflow as tf"
      ]
    },
    {
      "cell_type": "code",
      "source": [
        "tensor_zerod = tf.constant(4)\n",
        "print(tensor_zerod)"
      ],
      "metadata": {
        "colab": {
          "base_uri": "https://localhost:8080/"
        },
        "id": "C9sYWdlTnVxz",
        "outputId": "8a9fd80d-7b2c-4a17-f862-80c743a3107f"
      },
      "execution_count": null,
      "outputs": [
        {
          "output_type": "stream",
          "name": "stdout",
          "text": [
            "tf.Tensor(4, shape=(), dtype=int32)\n"
          ]
        }
      ]
    },
    {
      "cell_type": "code",
      "source": [
        "tensor_oned = tf.constant([2,0,-3,5], dtype=tf.float16)\n",
        "casted_oned = tf.cast(tensor_oned,dtype=tf.int16)\n",
        "print(tensor_oned)\n",
        "print(casted_oned)"
      ],
      "metadata": {
        "colab": {
          "base_uri": "https://localhost:8080/"
        },
        "id": "FxIfmq9PnYUh",
        "outputId": "e43d595d-e776-4bcc-dab7-b2addef84730"
      },
      "execution_count": null,
      "outputs": [
        {
          "output_type": "stream",
          "name": "stdout",
          "text": [
            "tf.Tensor([ 2.  0. -3.  5.], shape=(4,), dtype=float16)\n",
            "tf.Tensor([ 2  0 -3  5], shape=(4,), dtype=int16)\n"
          ]
        }
      ]
    },
    {
      "cell_type": "code",
      "source": [
        "tensor_bool = tf.constant([True,True,False])\n",
        "print(tensor_bool)"
      ],
      "metadata": {
        "colab": {
          "base_uri": "https://localhost:8080/"
        },
        "id": "HVe_y43D6ffr",
        "outputId": "35db38fc-7931-46ce-c00b-75be2f287c67"
      },
      "execution_count": null,
      "outputs": [
        {
          "output_type": "stream",
          "name": "stdout",
          "text": [
            "tf.Tensor([ True  True False], shape=(3,), dtype=bool)\n"
          ]
        }
      ]
    },
    {
      "cell_type": "code",
      "source": [
        "tensor_twod = tf.constant([\n",
        "    [2,4,5],\n",
        "    [3,5,6],\n",
        "    [7,8,2],\n",
        "    [2,4,5]\n",
        "])\n",
        "print(tensor_twod)"
      ],
      "metadata": {
        "colab": {
          "base_uri": "https://localhost:8080/"
        },
        "id": "2vWwXWTCnYYa",
        "outputId": "48cafbc7-5458-4db7-ab7a-d1f82bf7b245"
      },
      "execution_count": null,
      "outputs": [
        {
          "output_type": "stream",
          "name": "stdout",
          "text": [
            "tf.Tensor(\n",
            "[[2 4 5]\n",
            " [3 5 6]\n",
            " [7 8 2]\n",
            " [2 4 5]], shape=(4, 3), dtype=int32)\n"
          ]
        }
      ]
    },
    {
      "cell_type": "code",
      "source": [
        "tensor_string = tf.constant([\"Hello world\",\"Day\"])\n",
        "print(tensor_string)"
      ],
      "metadata": {
        "colab": {
          "base_uri": "https://localhost:8080/"
        },
        "id": "y0U9Lc406y60",
        "outputId": "97a71849-ad33-4185-b48e-b9c161d52d42"
      },
      "execution_count": null,
      "outputs": [
        {
          "output_type": "stream",
          "name": "stdout",
          "text": [
            "tf.Tensor([b'Hello world' b'Day'], shape=(2,), dtype=string)\n"
          ]
        }
      ]
    },
    {
      "cell_type": "code",
      "source": [
        "tensor_threed = tf.constant([\n",
        "    [\n",
        "        [1,2,3],\n",
        "        [2,3,5]\n",
        "    ],\n",
        "    [\n",
        "        [5,4,7],\n",
        "        [3,6,7]\n",
        "    ],\n",
        "    [\n",
        "        [7,8,7],\n",
        "        [5,6,9]\n",
        "    ]\n",
        "])\n",
        "\n",
        "print(tensor_threed)\n",
        "# print shape - print(tensor_threed.shape)\n",
        "# number of dimension - print(tensor_threed.ndim)"
      ],
      "metadata": {
        "colab": {
          "base_uri": "https://localhost:8080/"
        },
        "id": "jImsD8xHpOWx",
        "outputId": "2a95e057-72ef-457b-d488-d3d7458c549f"
      },
      "execution_count": null,
      "outputs": [
        {
          "output_type": "stream",
          "name": "stdout",
          "text": [
            "tf.Tensor(\n",
            "[[[1 2 3]\n",
            "  [2 3 5]]\n",
            "\n",
            " [[5 4 7]\n",
            "  [3 6 7]]\n",
            "\n",
            " [[7 8 7]\n",
            "  [5 6 9]]], shape=(3, 2, 3), dtype=int32)\n"
          ]
        }
      ]
    },
    {
      "cell_type": "code",
      "source": [
        "tensor_fourd = tf.constant([\n",
        "    [\n",
        "    [\n",
        "        [1,2,3],\n",
        "        [2,3,5]\n",
        "    ],\n",
        "    [\n",
        "        [5,4,7],\n",
        "        [3,6,7]\n",
        "    ],\n",
        "    [\n",
        "        [7,8,7],\n",
        "        [5,6,9]\n",
        "    ]\n",
        "],\n",
        "    [\n",
        "    [\n",
        "        [1,2,3],\n",
        "        [2,3,5]\n",
        "    ],\n",
        "    [\n",
        "        [5,4,7],\n",
        "        [3,6,7]\n",
        "    ],\n",
        "    [\n",
        "        [7,8,7],\n",
        "        [5,6,9]\n",
        "    ]\n",
        "]\n",
        "])\n",
        "print(tensor_fourd)"
      ],
      "metadata": {
        "id": "5R6OFY7BqeHV",
        "colab": {
          "base_uri": "https://localhost:8080/"
        },
        "outputId": "9b1242dd-0959-4b62-e993-03eb81ce8353"
      },
      "execution_count": null,
      "outputs": [
        {
          "output_type": "stream",
          "name": "stdout",
          "text": [
            "tf.Tensor(\n",
            "[[[[1 2 3]\n",
            "   [2 3 5]]\n",
            "\n",
            "  [[5 4 7]\n",
            "   [3 6 7]]\n",
            "\n",
            "  [[7 8 7]\n",
            "   [5 6 9]]]\n",
            "\n",
            "\n",
            " [[[1 2 3]\n",
            "   [2 3 5]]\n",
            "\n",
            "  [[5 4 7]\n",
            "   [3 6 7]]\n",
            "\n",
            "  [[7 8 7]\n",
            "   [5 6 9]]]], shape=(2, 3, 2, 3), dtype=int32)\n"
          ]
        }
      ]
    },
    {
      "cell_type": "code",
      "source": [
        "import numpy as np"
      ],
      "metadata": {
        "id": "k9j-o3iM1zIg"
      },
      "execution_count": null,
      "outputs": []
    },
    {
      "cell_type": "code",
      "source": [
        "np_array = np.array([1,3,5])\n",
        "print(np_array)"
      ],
      "metadata": {
        "colab": {
          "base_uri": "https://localhost:8080/"
        },
        "id": "3yRsL3q78o_l",
        "outputId": "42f70fd5-71b1-486b-dfb3-6e63e8879dff"
      },
      "execution_count": null,
      "outputs": [
        {
          "output_type": "stream",
          "name": "stdout",
          "text": [
            "[1 3 5]\n"
          ]
        }
      ]
    },
    {
      "cell_type": "code",
      "source": [
        "convert_tensor = tf.convert_to_tensor(np_array)\n",
        "print(convert_tensor)"
      ],
      "metadata": {
        "colab": {
          "base_uri": "https://localhost:8080/"
        },
        "id": "ZlTcrdt-8vf9",
        "outputId": "1d1724bb-4b08-42f3-874a-3c22c692cb3b"
      },
      "execution_count": null,
      "outputs": [
        {
          "output_type": "stream",
          "name": "stdout",
          "text": [
            "tf.Tensor([1 3 5], shape=(3,), dtype=int64)\n"
          ]
        }
      ]
    },
    {
      "cell_type": "code",
      "source": [
        "eye_tensor = tf.eye(\n",
        "    num_rows = 4,\n",
        "    num_columns=3,\n",
        "    batch_shape=[2,],\n",
        "    dtype=tf.dtypes.bool,\n",
        "    name=None\n",
        ")\n",
        "print(eye_tensor)"
      ],
      "metadata": {
        "colab": {
          "base_uri": "https://localhost:8080/"
        },
        "id": "vibnHic388Zl",
        "outputId": "88d7c14a-9ce1-4979-d147-3ba5bc790d13"
      },
      "execution_count": null,
      "outputs": [
        {
          "output_type": "stream",
          "name": "stdout",
          "text": [
            "tf.Tensor(\n",
            "[[[ True False False]\n",
            "  [False  True False]\n",
            "  [False False  True]\n",
            "  [False False False]]\n",
            "\n",
            " [[ True False False]\n",
            "  [False  True False]\n",
            "  [False False  True]\n",
            "  [False False False]]], shape=(2, 4, 3), dtype=bool)\n"
          ]
        }
      ]
    },
    {
      "cell_type": "code",
      "source": [
        "fill_tensor = tf.fill(\n",
        "    [2,3,2],5, name=None\n",
        ")\n",
        "print(fill_tensor)"
      ],
      "metadata": {
        "colab": {
          "base_uri": "https://localhost:8080/"
        },
        "id": "7NBDKxR-9yOL",
        "outputId": "ba43c462-9a97-450f-e372-c37f7033d4bf"
      },
      "execution_count": null,
      "outputs": [
        {
          "output_type": "stream",
          "name": "stdout",
          "text": [
            "tf.Tensor(\n",
            "[[[5 5]\n",
            "  [5 5]\n",
            "  [5 5]]\n",
            "\n",
            " [[5 5]\n",
            "  [5 5]\n",
            "  [5 5]]], shape=(2, 3, 2), dtype=int32)\n"
          ]
        }
      ]
    },
    {
      "cell_type": "code",
      "source": [
        "ones_tensor = tf.ones(\n",
        "    [2,5,6],\n",
        "    dtype=tf.dtypes.float32,\n",
        "    name=None\n",
        ")\n",
        "print(ones_tensor)"
      ],
      "metadata": {
        "colab": {
          "base_uri": "https://localhost:8080/"
        },
        "id": "dDg-YmE7_DCk",
        "outputId": "5dda7336-5337-428d-a7fd-a4cb0de2c632"
      },
      "execution_count": null,
      "outputs": [
        {
          "output_type": "stream",
          "name": "stdout",
          "text": [
            "tf.Tensor(\n",
            "[[[1. 1. 1. 1. 1. 1.]\n",
            "  [1. 1. 1. 1. 1. 1.]\n",
            "  [1. 1. 1. 1. 1. 1.]\n",
            "  [1. 1. 1. 1. 1. 1.]\n",
            "  [1. 1. 1. 1. 1. 1.]]\n",
            "\n",
            " [[1. 1. 1. 1. 1. 1.]\n",
            "  [1. 1. 1. 1. 1. 1.]\n",
            "  [1. 1. 1. 1. 1. 1.]\n",
            "  [1. 1. 1. 1. 1. 1.]\n",
            "  [1. 1. 1. 1. 1. 1.]]], shape=(2, 5, 6), dtype=float32)\n"
          ]
        }
      ]
    },
    {
      "cell_type": "code",
      "source": [
        "random_tensor = tf.random.normal(\n",
        "    [3,2],\n",
        "    mean=10.0,\n",
        "    stddev=1.0,\n",
        "    dtype=tf.dtypes.float32,\n",
        "    seed=None,\n",
        "    name=None\n",
        ")\n",
        "print(random_tensor)"
      ],
      "metadata": {
        "colab": {
          "base_uri": "https://localhost:8080/"
        },
        "id": "A2mKWIUuAE-o",
        "outputId": "2bd97ba3-1faa-469e-fd7d-ae3fac3260f7"
      },
      "execution_count": null,
      "outputs": [
        {
          "output_type": "stream",
          "name": "stdout",
          "text": [
            "tf.Tensor(\n",
            "[[ 9.397194   7.695371 ]\n",
            " [ 9.52965   10.379027 ]\n",
            " [11.522743   7.9417777]], shape=(3, 2), dtype=float32)\n"
          ]
        }
      ]
    },
    {
      "cell_type": "code",
      "source": [
        "rando_tensor = tf.random.uniform(\n",
        "    [3,],\n",
        "    minval=0,\n",
        "    maxval=100,\n",
        "    dtype=tf.dtypes.int32,\n",
        "    seed=None,\n",
        "    name=None\n",
        ")\n",
        "print(rando_tensor)"
      ],
      "metadata": {
        "id": "acniTo6rC1oc",
        "colab": {
          "base_uri": "https://localhost:8080/"
        },
        "outputId": "89aed1e2-57a0-4a4e-acd6-361fe483d5cd"
      },
      "execution_count": null,
      "outputs": [
        {
          "output_type": "stream",
          "name": "stdout",
          "text": [
            "tf.Tensor([80 31 96], shape=(3,), dtype=int32)\n"
          ]
        }
      ]
    },
    {
      "cell_type": "markdown",
      "source": [
        "Indexing"
      ],
      "metadata": {
        "id": "tDatmYKeK9Jm"
      }
    },
    {
      "cell_type": "code",
      "source": [
        "tensor_indexed = tf.constant([5,3,6,7,4,5,2])\n",
        "print(tensor_indexed)"
      ],
      "metadata": {
        "colab": {
          "base_uri": "https://localhost:8080/"
        },
        "id": "JPRvuDEXLBWe",
        "outputId": "1f2a7600-84ac-410d-c53f-cf099004e62e"
      },
      "execution_count": null,
      "outputs": [
        {
          "output_type": "stream",
          "name": "stdout",
          "text": [
            "tf.Tensor([5 3 6 7 4 5 2], shape=(7,), dtype=int32)\n"
          ]
        }
      ]
    },
    {
      "cell_type": "code",
      "source": [
        "# Get the first two columns\n",
        "tensor_twod = tf.constant([\n",
        "    [4,5,5],\n",
        "    [1,7,3],\n",
        "    [3,5,1],\n",
        "    [2,6,6]\n",
        "])\n",
        "print(tensor_twod[0:3,0:2])"
      ],
      "metadata": {
        "id": "r7Mhr9VgLO6N",
        "colab": {
          "base_uri": "https://localhost:8080/"
        },
        "outputId": "3daf2495-a66c-4874-c25b-20129ad0c38a"
      },
      "execution_count": 67,
      "outputs": [
        {
          "output_type": "stream",
          "name": "stdout",
          "text": [
            "tf.Tensor(\n",
            "[[4 5]\n",
            " [1 7]\n",
            " [3 5]], shape=(3, 2), dtype=int32)\n"
          ]
        }
      ]
    },
    {
      "cell_type": "code",
      "source": [],
      "metadata": {
        "id": "VHsI5vtpOfKt"
      },
      "execution_count": null,
      "outputs": []
    }
  ]
}