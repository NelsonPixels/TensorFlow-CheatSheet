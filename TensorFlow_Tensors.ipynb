{
  "nbformat": 4,
  "nbformat_minor": 0,
  "metadata": {
    "colab": {
      "provenance": [],
      "authorship_tag": "ABX9TyOwZuvax2ZOoZW2MjV9pPGX",
      "include_colab_link": true
    },
    "kernelspec": {
      "name": "python3",
      "display_name": "Python 3"
    },
    "language_info": {
      "name": "python"
    }
  },
  "cells": [
    {
      "cell_type": "markdown",
      "metadata": {
        "id": "view-in-github",
        "colab_type": "text"
      },
      "source": [
        "<a href=\"https://colab.research.google.com/github/NelsonPixels/TensorFlow-CheatSheet/blob/main/TensorFlow_Tensors.ipynb\" target=\"_parent\"><img src=\"https://colab.research.google.com/assets/colab-badge.svg\" alt=\"Open In Colab\"/></a>"
      ]
    },
    {
      "cell_type": "code",
      "execution_count": null,
      "metadata": {
        "id": "0VUGYO2ag6AX"
      },
      "outputs": [],
      "source": [
        "import tensorflow as tf"
      ]
    },
    {
      "cell_type": "code",
      "source": [
        "tensor_zerod = tf.constant(4)\n",
        "print(tensor_zerod)"
      ],
      "metadata": {
        "colab": {
          "base_uri": "https://localhost:8080/"
        },
        "id": "C9sYWdlTnVxz",
        "outputId": "8a9fd80d-7b2c-4a17-f862-80c743a3107f"
      },
      "execution_count": null,
      "outputs": [
        {
          "output_type": "stream",
          "name": "stdout",
          "text": [
            "tf.Tensor(4, shape=(), dtype=int32)\n"
          ]
        }
      ]
    },
    {
      "cell_type": "code",
      "source": [
        "tensor_oned = tf.constant([2,0,-3,5], dtype=tf.float16)\n",
        "casted_oned = tf.cast(tensor_oned,dtype=tf.int16)\n",
        "print(tensor_oned)\n",
        "print(casted_oned)"
      ],
      "metadata": {
        "colab": {
          "base_uri": "https://localhost:8080/"
        },
        "id": "FxIfmq9PnYUh",
        "outputId": "e43d595d-e776-4bcc-dab7-b2addef84730"
      },
      "execution_count": null,
      "outputs": [
        {
          "output_type": "stream",
          "name": "stdout",
          "text": [
            "tf.Tensor([ 2.  0. -3.  5.], shape=(4,), dtype=float16)\n",
            "tf.Tensor([ 2  0 -3  5], shape=(4,), dtype=int16)\n"
          ]
        }
      ]
    },
    {
      "cell_type": "code",
      "source": [
        "tensor_bool = tf.constant([True,True,False])\n",
        "print(tensor_bool)"
      ],
      "metadata": {
        "colab": {
          "base_uri": "https://localhost:8080/"
        },
        "id": "HVe_y43D6ffr",
        "outputId": "35db38fc-7931-46ce-c00b-75be2f287c67"
      },
      "execution_count": null,
      "outputs": [
        {
          "output_type": "stream",
          "name": "stdout",
          "text": [
            "tf.Tensor([ True  True False], shape=(3,), dtype=bool)\n"
          ]
        }
      ]
    },
    {
      "cell_type": "code",
      "source": [
        "tensor_twod = tf.constant([\n",
        "    [2,4,5],\n",
        "    [3,5,6],\n",
        "    [7,8,2],\n",
        "    [2,4,5]\n",
        "])\n",
        "print(tensor_twod)"
      ],
      "metadata": {
        "colab": {
          "base_uri": "https://localhost:8080/"
        },
        "id": "2vWwXWTCnYYa",
        "outputId": "48cafbc7-5458-4db7-ab7a-d1f82bf7b245"
      },
      "execution_count": null,
      "outputs": [
        {
          "output_type": "stream",
          "name": "stdout",
          "text": [
            "tf.Tensor(\n",
            "[[2 4 5]\n",
            " [3 5 6]\n",
            " [7 8 2]\n",
            " [2 4 5]], shape=(4, 3), dtype=int32)\n"
          ]
        }
      ]
    },
    {
      "cell_type": "code",
      "source": [
        "tensor_string = tf.constant([\"Hello world\",\"Day\"])\n",
        "print(tensor_string)"
      ],
      "metadata": {
        "colab": {
          "base_uri": "https://localhost:8080/"
        },
        "id": "y0U9Lc406y60",
        "outputId": "97a71849-ad33-4185-b48e-b9c161d52d42"
      },
      "execution_count": null,
      "outputs": [
        {
          "output_type": "stream",
          "name": "stdout",
          "text": [
            "tf.Tensor([b'Hello world' b'Day'], shape=(2,), dtype=string)\n"
          ]
        }
      ]
    },
    {
      "cell_type": "code",
      "source": [
        "tensor_threed = tf.constant([\n",
        "    [\n",
        "        [1,2,3],\n",
        "        [2,3,5]\n",
        "    ],\n",
        "    [\n",
        "        [5,4,7],\n",
        "        [3,6,7]\n",
        "    ],\n",
        "    [\n",
        "        [7,8,7],\n",
        "        [5,6,9]\n",
        "    ]\n",
        "])\n",
        "\n",
        "print(tensor_threed)\n",
        "# print shape - print(tensor_threed.shape)\n",
        "# number of dimension - print(tensor_threed.ndim)"
      ],
      "metadata": {
        "colab": {
          "base_uri": "https://localhost:8080/"
        },
        "id": "jImsD8xHpOWx",
        "outputId": "2a95e057-72ef-457b-d488-d3d7458c549f"
      },
      "execution_count": null,
      "outputs": [
        {
          "output_type": "stream",
          "name": "stdout",
          "text": [
            "tf.Tensor(\n",
            "[[[1 2 3]\n",
            "  [2 3 5]]\n",
            "\n",
            " [[5 4 7]\n",
            "  [3 6 7]]\n",
            "\n",
            " [[7 8 7]\n",
            "  [5 6 9]]], shape=(3, 2, 3), dtype=int32)\n"
          ]
        }
      ]
    },
    {
      "cell_type": "code",
      "source": [
        "tensor_fourd = tf.constant([\n",
        "    [\n",
        "    [\n",
        "        [1,2,3],\n",
        "        [2,3,5]\n",
        "    ],\n",
        "    [\n",
        "        [5,4,7],\n",
        "        [3,6,7]\n",
        "    ],\n",
        "    [\n",
        "        [7,8,7],\n",
        "        [5,6,9]\n",
        "    ]\n",
        "],\n",
        "    [\n",
        "    [\n",
        "        [1,2,3],\n",
        "        [2,3,5]\n",
        "    ],\n",
        "    [\n",
        "        [5,4,7],\n",
        "        [3,6,7]\n",
        "    ],\n",
        "    [\n",
        "        [7,8,7],\n",
        "        [5,6,9]\n",
        "    ]\n",
        "]\n",
        "])\n",
        "print(tensor_fourd)"
      ],
      "metadata": {
        "id": "5R6OFY7BqeHV",
        "colab": {
          "base_uri": "https://localhost:8080/"
        },
        "outputId": "9b1242dd-0959-4b62-e993-03eb81ce8353"
      },
      "execution_count": null,
      "outputs": [
        {
          "output_type": "stream",
          "name": "stdout",
          "text": [
            "tf.Tensor(\n",
            "[[[[1 2 3]\n",
            "   [2 3 5]]\n",
            "\n",
            "  [[5 4 7]\n",
            "   [3 6 7]]\n",
            "\n",
            "  [[7 8 7]\n",
            "   [5 6 9]]]\n",
            "\n",
            "\n",
            " [[[1 2 3]\n",
            "   [2 3 5]]\n",
            "\n",
            "  [[5 4 7]\n",
            "   [3 6 7]]\n",
            "\n",
            "  [[7 8 7]\n",
            "   [5 6 9]]]], shape=(2, 3, 2, 3), dtype=int32)\n"
          ]
        }
      ]
    },
    {
      "cell_type": "code",
      "source": [
        "import numpy as np"
      ],
      "metadata": {
        "id": "k9j-o3iM1zIg"
      },
      "execution_count": null,
      "outputs": []
    },
    {
      "cell_type": "code",
      "source": [
        "np_array = np.array([1,3,5])\n",
        "print(np_array)"
      ],
      "metadata": {
        "colab": {
          "base_uri": "https://localhost:8080/"
        },
        "id": "3yRsL3q78o_l",
        "outputId": "42f70fd5-71b1-486b-dfb3-6e63e8879dff"
      },
      "execution_count": null,
      "outputs": [
        {
          "output_type": "stream",
          "name": "stdout",
          "text": [
            "[1 3 5]\n"
          ]
        }
      ]
    },
    {
      "cell_type": "code",
      "source": [
        "convert_tensor = tf.convert_to_tensor(np_array)\n",
        "print(convert_tensor)"
      ],
      "metadata": {
        "colab": {
          "base_uri": "https://localhost:8080/"
        },
        "id": "ZlTcrdt-8vf9",
        "outputId": "1d1724bb-4b08-42f3-874a-3c22c692cb3b"
      },
      "execution_count": null,
      "outputs": [
        {
          "output_type": "stream",
          "name": "stdout",
          "text": [
            "tf.Tensor([1 3 5], shape=(3,), dtype=int64)\n"
          ]
        }
      ]
    },
    {
      "cell_type": "code",
      "source": [
        "eye_tensor = tf.eye(\n",
        "    num_rows = 4,\n",
        "    num_columns=3,\n",
        "    batch_shape=[2,],\n",
        "    dtype=tf.dtypes.bool,\n",
        "    name=None\n",
        ")\n",
        "print(eye_tensor)"
      ],
      "metadata": {
        "colab": {
          "base_uri": "https://localhost:8080/"
        },
        "id": "vibnHic388Zl",
        "outputId": "88d7c14a-9ce1-4979-d147-3ba5bc790d13"
      },
      "execution_count": null,
      "outputs": [
        {
          "output_type": "stream",
          "name": "stdout",
          "text": [
            "tf.Tensor(\n",
            "[[[ True False False]\n",
            "  [False  True False]\n",
            "  [False False  True]\n",
            "  [False False False]]\n",
            "\n",
            " [[ True False False]\n",
            "  [False  True False]\n",
            "  [False False  True]\n",
            "  [False False False]]], shape=(2, 4, 3), dtype=bool)\n"
          ]
        }
      ]
    },
    {
      "cell_type": "code",
      "source": [
        "fill_tensor = tf.fill(\n",
        "    [2,3,2],5, name=None\n",
        ")\n",
        "print(fill_tensor)"
      ],
      "metadata": {
        "colab": {
          "base_uri": "https://localhost:8080/"
        },
        "id": "7NBDKxR-9yOL",
        "outputId": "ba43c462-9a97-450f-e372-c37f7033d4bf"
      },
      "execution_count": null,
      "outputs": [
        {
          "output_type": "stream",
          "name": "stdout",
          "text": [
            "tf.Tensor(\n",
            "[[[5 5]\n",
            "  [5 5]\n",
            "  [5 5]]\n",
            "\n",
            " [[5 5]\n",
            "  [5 5]\n",
            "  [5 5]]], shape=(2, 3, 2), dtype=int32)\n"
          ]
        }
      ]
    },
    {
      "cell_type": "code",
      "source": [
        "ones_tensor = tf.ones(\n",
        "    [2,5,6],\n",
        "    dtype=tf.dtypes.float32,\n",
        "    name=None\n",
        ")\n",
        "print(ones_tensor)"
      ],
      "metadata": {
        "colab": {
          "base_uri": "https://localhost:8080/"
        },
        "id": "dDg-YmE7_DCk",
        "outputId": "5dda7336-5337-428d-a7fd-a4cb0de2c632"
      },
      "execution_count": null,
      "outputs": [
        {
          "output_type": "stream",
          "name": "stdout",
          "text": [
            "tf.Tensor(\n",
            "[[[1. 1. 1. 1. 1. 1.]\n",
            "  [1. 1. 1. 1. 1. 1.]\n",
            "  [1. 1. 1. 1. 1. 1.]\n",
            "  [1. 1. 1. 1. 1. 1.]\n",
            "  [1. 1. 1. 1. 1. 1.]]\n",
            "\n",
            " [[1. 1. 1. 1. 1. 1.]\n",
            "  [1. 1. 1. 1. 1. 1.]\n",
            "  [1. 1. 1. 1. 1. 1.]\n",
            "  [1. 1. 1. 1. 1. 1.]\n",
            "  [1. 1. 1. 1. 1. 1.]]], shape=(2, 5, 6), dtype=float32)\n"
          ]
        }
      ]
    },
    {
      "cell_type": "code",
      "source": [
        "random_tensor = tf.random.normal(\n",
        "    [3,2],\n",
        "    mean=10.0,\n",
        "    stddev=1.0,\n",
        "    dtype=tf.dtypes.float32,\n",
        "    seed=None,\n",
        "    name=None\n",
        ")\n",
        "print(random_tensor)"
      ],
      "metadata": {
        "colab": {
          "base_uri": "https://localhost:8080/"
        },
        "id": "A2mKWIUuAE-o",
        "outputId": "2bd97ba3-1faa-469e-fd7d-ae3fac3260f7"
      },
      "execution_count": null,
      "outputs": [
        {
          "output_type": "stream",
          "name": "stdout",
          "text": [
            "tf.Tensor(\n",
            "[[ 9.397194   7.695371 ]\n",
            " [ 9.52965   10.379027 ]\n",
            " [11.522743   7.9417777]], shape=(3, 2), dtype=float32)\n"
          ]
        }
      ]
    },
    {
      "cell_type": "code",
      "source": [
        "rando_tensor = tf.random.uniform(\n",
        "    [3,],\n",
        "    minval=0,\n",
        "    maxval=100,\n",
        "    dtype=tf.dtypes.int32,\n",
        "    seed=None,\n",
        "    name=None\n",
        ")\n",
        "print(rando_tensor)"
      ],
      "metadata": {
        "id": "acniTo6rC1oc",
        "colab": {
          "base_uri": "https://localhost:8080/"
        },
        "outputId": "89aed1e2-57a0-4a4e-acd6-361fe483d5cd"
      },
      "execution_count": null,
      "outputs": [
        {
          "output_type": "stream",
          "name": "stdout",
          "text": [
            "tf.Tensor([80 31 96], shape=(3,), dtype=int32)\n"
          ]
        }
      ]
    },
    {
      "cell_type": "markdown",
      "source": [
        "Indexing"
      ],
      "metadata": {
        "id": "tDatmYKeK9Jm"
      }
    },
    {
      "cell_type": "code",
      "source": [
        "tensor_indexed = tf.constant([5,3,6,7,4,5,2])\n",
        "print(tensor_indexed)"
      ],
      "metadata": {
        "colab": {
          "base_uri": "https://localhost:8080/"
        },
        "id": "JPRvuDEXLBWe",
        "outputId": "1f2a7600-84ac-410d-c53f-cf099004e62e"
      },
      "execution_count": null,
      "outputs": [
        {
          "output_type": "stream",
          "name": "stdout",
          "text": [
            "tf.Tensor([5 3 6 7 4 5 2], shape=(7,), dtype=int32)\n"
          ]
        }
      ]
    },
    {
      "cell_type": "code",
      "source": [
        "# Get the first two columns\n",
        "tensor_twod = tf.constant([\n",
        "    [4,5,5],\n",
        "    [1,7,3],\n",
        "    [3,5,1],\n",
        "    [2,6,6]\n",
        "])\n",
        "print(tensor_twod[0:3,0:2])"
      ],
      "metadata": {
        "id": "r7Mhr9VgLO6N",
        "colab": {
          "base_uri": "https://localhost:8080/"
        },
        "outputId": "3daf2495-a66c-4874-c25b-20129ad0c38a"
      },
      "execution_count": null,
      "outputs": [
        {
          "output_type": "stream",
          "name": "stdout",
          "text": [
            "tf.Tensor(\n",
            "[[4 5]\n",
            " [1 7]\n",
            " [3 5]], shape=(3, 2), dtype=int32)\n"
          ]
        }
      ]
    },
    {
      "cell_type": "markdown",
      "source": [
        "Math Operations"
      ],
      "metadata": {
        "id": "rjQDKul6Rlip"
      }
    },
    {
      "cell_type": "code",
      "source": [
        "x_abs = tf.constant([3,5])\n",
        "tf.abs(x_abs)"
      ],
      "metadata": {
        "id": "rgZaBnAzRnog",
        "colab": {
          "base_uri": "https://localhost:8080/"
        },
        "outputId": "184887ed-bf72-4bf2-b985-42946bbca01b"
      },
      "execution_count": null,
      "outputs": [
        {
          "output_type": "execute_result",
          "data": {
            "text/plain": [
              "<tf.Tensor: shape=(2,), dtype=int32, numpy=array([3, 5], dtype=int32)>"
            ]
          },
          "metadata": {},
          "execution_count": 69
        }
      ]
    },
    {
      "cell_type": "code",
      "source": [
        "x = tf.constant([[-2.25 + 4.75j], [-3.25 + 5.75j]])\n",
        "tf.abs(x)"
      ],
      "metadata": {
        "colab": {
          "base_uri": "https://localhost:8080/"
        },
        "id": "VScrPX9nXN83",
        "outputId": "d74a7291-8019-497d-8399-f1f734048054"
      },
      "execution_count": null,
      "outputs": [
        {
          "output_type": "execute_result",
          "data": {
            "text/plain": [
              "<tf.Tensor: shape=(2, 1), dtype=float64, numpy=\n",
              "array([[5.25594901],\n",
              "       [6.60492241]])>"
            ]
          },
          "metadata": {},
          "execution_count": 70
        }
      ]
    },
    {
      "cell_type": "code",
      "source": [
        "tf.sqrt((-3.2)**2 + 4**2)"
      ],
      "metadata": {
        "id": "dWz0FjbMYHvg",
        "colab": {
          "base_uri": "https://localhost:8080/"
        },
        "outputId": "7bf25ada-1978-424e-d327-46dd2d45d47d"
      },
      "execution_count": null,
      "outputs": [
        {
          "output_type": "execute_result",
          "data": {
            "text/plain": [
              "<tf.Tensor: shape=(), dtype=float32, numpy=5.1224995>"
            ]
          },
          "metadata": {},
          "execution_count": 73
        }
      ]
    },
    {
      "cell_type": "code",
      "source": [
        "a = tf.constant([2,4,6,5,8], dtype=tf.int32)\n",
        "b = tf.constant([8,6,2,4,6], dtype=tf.int32)\n",
        "print(tf.math.add(a,b))\n",
        "print(tf.multiply(a,b))"
      ],
      "metadata": {
        "colab": {
          "base_uri": "https://localhost:8080/"
        },
        "id": "0Zh_Mq4HePE7",
        "outputId": "5447d1a9-6f51-4f87-f817-874fccfbbd15"
      },
      "execution_count": null,
      "outputs": [
        {
          "output_type": "stream",
          "name": "stdout",
          "text": [
            "tf.Tensor([10 10  8  9 14], shape=(5,), dtype=int32)\n",
            "tf.Tensor([16 24 12 20 48], shape=(5,), dtype=int32)\n"
          ]
        }
      ]
    },
    {
      "cell_type": "code",
      "source": [
        "x_arg = tf.constant([21,54,87,45,12])\n",
        "print(tf.math.argmax(x_arg))"
      ],
      "metadata": {
        "id": "UhI_HMdzez4O",
        "colab": {
          "base_uri": "https://localhost:8080/"
        },
        "outputId": "ee93784b-84e7-4f8a-81d4-ad756cc23859"
      },
      "execution_count": null,
      "outputs": [
        {
          "output_type": "stream",
          "name": "stdout",
          "text": [
            "tf.Tensor(2, shape=(), dtype=int64)\n"
          ]
        }
      ]
    },
    {
      "cell_type": "code",
      "source": [
        "x = tf.constant([[2, 2], [3, 3]])\n",
        "y = tf.constant([[2, 1], [2, 3]])\n",
        "tf.pow(x, y)"
      ],
      "metadata": {
        "colab": {
          "base_uri": "https://localhost:8080/"
        },
        "id": "J62EQ33MjPkC",
        "outputId": "9a247732-3bfa-409c-8a50-12760e736d3c"
      },
      "execution_count": null,
      "outputs": [
        {
          "output_type": "execute_result",
          "data": {
            "text/plain": [
              "<tf.Tensor: shape=(2, 2), dtype=int32, numpy=\n",
              "array([[ 4,  2],\n",
              "       [ 9, 27]], dtype=int32)>"
            ]
          },
          "metadata": {},
          "execution_count": 81
        }
      ]
    },
    {
      "cell_type": "code",
      "source": [
        "tf.pow(tf.constant(3),tf.constant(3))"
      ],
      "metadata": {
        "colab": {
          "base_uri": "https://localhost:8080/"
        },
        "id": "XVxyt-fjmASE",
        "outputId": "b4d6d9c6-047d-42a1-bdb9-c2c6a73be758"
      },
      "execution_count": null,
      "outputs": [
        {
          "output_type": "execute_result",
          "data": {
            "text/plain": [
              "<tf.Tensor: shape=(), dtype=int32, numpy=27>"
            ]
          },
          "metadata": {},
          "execution_count": 84
        }
      ]
    },
    {
      "cell_type": "code",
      "source": [
        "tensor_twod = tf.constant([\n",
        "    [2,4,3],\n",
        "    [3,4,7],\n",
        "    [5,-2,3],\n",
        "    [2,4,9]\n",
        "])\n",
        "print(tensor_twod)\n",
        "print(tf.math.reduce_max(tensor_twod, axis=None, keepdims=False, name=None))\n",
        "print(tf.math.reduce_sum(tensor_twod, axis=0, keepdims=False, name=None))"
      ],
      "metadata": {
        "colab": {
          "base_uri": "https://localhost:8080/"
        },
        "id": "Fz8clg4MmjWq",
        "outputId": "72668c5b-dbee-4694-d788-6bee300f57a4"
      },
      "execution_count": null,
      "outputs": [
        {
          "output_type": "stream",
          "name": "stdout",
          "text": [
            "tf.Tensor(\n",
            "[[ 2  4  3]\n",
            " [ 3  4  7]\n",
            " [ 5 -2  3]\n",
            " [ 2  4  9]], shape=(4, 3), dtype=int32)\n",
            "tf.Tensor(9, shape=(), dtype=int32)\n",
            "tf.Tensor([12 10 22], shape=(3,), dtype=int32)\n"
          ]
        }
      ]
    },
    {
      "cell_type": "code",
      "source": [
        "tf.math.top_k(tensor_twod, k = 2)"
      ],
      "metadata": {
        "id": "FhQsN_5JncL2",
        "colab": {
          "base_uri": "https://localhost:8080/"
        },
        "outputId": "93136aaa-b1ed-4aee-fcb0-cd083407cd5d"
      },
      "execution_count": 94,
      "outputs": [
        {
          "output_type": "execute_result",
          "data": {
            "text/plain": [
              "TopKV2(values=<tf.Tensor: shape=(4, 2), dtype=int32, numpy=\n",
              "array([[4, 3],\n",
              "       [7, 4],\n",
              "       [5, 3],\n",
              "       [9, 4]], dtype=int32)>, indices=<tf.Tensor: shape=(4, 2), dtype=int32, numpy=\n",
              "array([[1, 2],\n",
              "       [2, 1],\n",
              "       [0, 2],\n",
              "       [2, 1]], dtype=int32)>)"
            ]
          },
          "metadata": {},
          "execution_count": 94
        }
      ]
    },
    {
      "cell_type": "code",
      "source": [],
      "metadata": {
        "id": "QFMk6I0ot147"
      },
      "execution_count": null,
      "outputs": []
    }
  ]
}