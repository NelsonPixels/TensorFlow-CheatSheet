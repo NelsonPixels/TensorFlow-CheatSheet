{
  "nbformat": 4,
  "nbformat_minor": 0,
  "metadata": {
    "colab": {
      "provenance": [],
      "authorship_tag": "ABX9TyNFAZDCTkIYEODokI0YxGdU",
      "include_colab_link": true
    },
    "kernelspec": {
      "name": "python3",
      "display_name": "Python 3"
    },
    "language_info": {
      "name": "python"
    }
  },
  "cells": [
    {
      "cell_type": "markdown",
      "metadata": {
        "id": "view-in-github",
        "colab_type": "text"
      },
      "source": [
        "<a href=\"https://colab.research.google.com/github/NelsonPixels/TensorFlow-CheatSheet/blob/main/TensorFlow_Tensors.ipynb\" target=\"_parent\"><img src=\"https://colab.research.google.com/assets/colab-badge.svg\" alt=\"Open In Colab\"/></a>"
      ]
    },
    {
      "cell_type": "code",
      "execution_count": null,
      "metadata": {
        "id": "0VUGYO2ag6AX"
      },
      "outputs": [],
      "source": [
        "import tensorflow as tf\n",
        "import numpy as np"
      ]
    },
    {
      "cell_type": "code",
      "source": [
        "tensor_zerod = tf.constant(4)\n",
        "print(tensor_zerod)"
      ],
      "metadata": {
        "colab": {
          "base_uri": "https://localhost:8080/"
        },
        "id": "C9sYWdlTnVxz",
        "outputId": "8a9fd80d-7b2c-4a17-f862-80c743a3107f"
      },
      "execution_count": null,
      "outputs": [
        {
          "output_type": "stream",
          "name": "stdout",
          "text": [
            "tf.Tensor(4, shape=(), dtype=int32)\n"
          ]
        }
      ]
    },
    {
      "cell_type": "code",
      "source": [
        "tensor_oned = tf.constant([2,0,-3,5], dtype=tf.float16)\n",
        "casted_oned = tf.cast(tensor_oned,dtype=tf.int16)\n",
        "print(tensor_oned)\n",
        "print(casted_oned)"
      ],
      "metadata": {
        "colab": {
          "base_uri": "https://localhost:8080/"
        },
        "id": "FxIfmq9PnYUh",
        "outputId": "e43d595d-e776-4bcc-dab7-b2addef84730"
      },
      "execution_count": null,
      "outputs": [
        {
          "output_type": "stream",
          "name": "stdout",
          "text": [
            "tf.Tensor([ 2.  0. -3.  5.], shape=(4,), dtype=float16)\n",
            "tf.Tensor([ 2  0 -3  5], shape=(4,), dtype=int16)\n"
          ]
        }
      ]
    },
    {
      "cell_type": "code",
      "source": [
        "tensor_bool = tf.constant([True,True,False])\n",
        "print(tensor_bool)"
      ],
      "metadata": {
        "colab": {
          "base_uri": "https://localhost:8080/"
        },
        "id": "HVe_y43D6ffr",
        "outputId": "35db38fc-7931-46ce-c00b-75be2f287c67"
      },
      "execution_count": null,
      "outputs": [
        {
          "output_type": "stream",
          "name": "stdout",
          "text": [
            "tf.Tensor([ True  True False], shape=(3,), dtype=bool)\n"
          ]
        }
      ]
    },
    {
      "cell_type": "code",
      "source": [
        "tensor_twod = tf.constant([\n",
        "    [2,4,5],\n",
        "    [3,5,6],\n",
        "    [7,8,2],\n",
        "    [2,4,5]\n",
        "])\n",
        "print(tensor_twod)"
      ],
      "metadata": {
        "colab": {
          "base_uri": "https://localhost:8080/"
        },
        "id": "2vWwXWTCnYYa",
        "outputId": "48cafbc7-5458-4db7-ab7a-d1f82bf7b245"
      },
      "execution_count": null,
      "outputs": [
        {
          "output_type": "stream",
          "name": "stdout",
          "text": [
            "tf.Tensor(\n",
            "[[2 4 5]\n",
            " [3 5 6]\n",
            " [7 8 2]\n",
            " [2 4 5]], shape=(4, 3), dtype=int32)\n"
          ]
        }
      ]
    },
    {
      "cell_type": "code",
      "source": [
        "tensor_string = tf.constant([\"Hello world\",\"Day\"])\n",
        "print(tensor_string)"
      ],
      "metadata": {
        "colab": {
          "base_uri": "https://localhost:8080/"
        },
        "id": "y0U9Lc406y60",
        "outputId": "97a71849-ad33-4185-b48e-b9c161d52d42"
      },
      "execution_count": null,
      "outputs": [
        {
          "output_type": "stream",
          "name": "stdout",
          "text": [
            "tf.Tensor([b'Hello world' b'Day'], shape=(2,), dtype=string)\n"
          ]
        }
      ]
    },
    {
      "cell_type": "code",
      "source": [
        "tensor_threed = tf.constant([\n",
        "    [\n",
        "        [1,2,3],\n",
        "        [2,3,5]\n",
        "    ],\n",
        "    [\n",
        "        [5,4,7],\n",
        "        [3,6,7]\n",
        "    ],\n",
        "    [\n",
        "        [7,8,7],\n",
        "        [5,6,9]\n",
        "    ]\n",
        "])\n",
        "\n",
        "print(tensor_threed)\n",
        "# print shape - print(tensor_threed.shape)\n",
        "# number of dimension - print(tensor_threed.ndim)"
      ],
      "metadata": {
        "colab": {
          "base_uri": "https://localhost:8080/"
        },
        "id": "jImsD8xHpOWx",
        "outputId": "2a95e057-72ef-457b-d488-d3d7458c549f"
      },
      "execution_count": null,
      "outputs": [
        {
          "output_type": "stream",
          "name": "stdout",
          "text": [
            "tf.Tensor(\n",
            "[[[1 2 3]\n",
            "  [2 3 5]]\n",
            "\n",
            " [[5 4 7]\n",
            "  [3 6 7]]\n",
            "\n",
            " [[7 8 7]\n",
            "  [5 6 9]]], shape=(3, 2, 3), dtype=int32)\n"
          ]
        }
      ]
    },
    {
      "cell_type": "code",
      "source": [
        " tensor_fourd = tf.constant([\n",
        "    [\n",
        "    [\n",
        "        [1,2,3],\n",
        "        [2,3,5]\n",
        "    ],\n",
        "    [\n",
        "        [5,4,7],\n",
        "        [3,6,7]\n",
        "    ],\n",
        "    [\n",
        "        [7,8,7],\n",
        "        [5,6,9]\n",
        "    ]\n",
        "],\n",
        "    [\n",
        "    [\n",
        "        [1,2,3],\n",
        "        [2,3,5]\n",
        "    ],\n",
        "    [\n",
        "        [5,4,7],\n",
        "        [3,6,7]\n",
        "    ],\n",
        "    [\n",
        "        [7,8,7],\n",
        "        [5,6,9]\n",
        "    ]\n",
        "]\n",
        "])\n",
        "print(tensor_fourd)"
      ],
      "metadata": {
        "id": "5R6OFY7BqeHV",
        "colab": {
          "base_uri": "https://localhost:8080/"
        },
        "outputId": "9b1242dd-0959-4b62-e993-03eb81ce8353"
      },
      "execution_count": null,
      "outputs": [
        {
          "output_type": "stream",
          "name": "stdout",
          "text": [
            "tf.Tensor(\n",
            "[[[[1 2 3]\n",
            "   [2 3 5]]\n",
            "\n",
            "  [[5 4 7]\n",
            "   [3 6 7]]\n",
            "\n",
            "  [[7 8 7]\n",
            "   [5 6 9]]]\n",
            "\n",
            "\n",
            " [[[1 2 3]\n",
            "   [2 3 5]]\n",
            "\n",
            "  [[5 4 7]\n",
            "   [3 6 7]]\n",
            "\n",
            "  [[7 8 7]\n",
            "   [5 6 9]]]], shape=(2, 3, 2, 3), dtype=int32)\n"
          ]
        }
      ]
    },
    {
      "cell_type": "code",
      "source": [
        "import numpy as np"
      ],
      "metadata": {
        "id": "k9j-o3iM1zIg"
      },
      "execution_count": null,
      "outputs": []
    },
    {
      "cell_type": "code",
      "source": [
        "np_array = np.array([1,3,5])\n",
        "print(np_array)"
      ],
      "metadata": {
        "colab": {
          "base_uri": "https://localhost:8080/"
        },
        "id": "3yRsL3q78o_l",
        "outputId": "42f70fd5-71b1-486b-dfb3-6e63e8879dff"
      },
      "execution_count": null,
      "outputs": [
        {
          "output_type": "stream",
          "name": "stdout",
          "text": [
            "[1 3 5]\n"
          ]
        }
      ]
    },
    {
      "cell_type": "code",
      "source": [
        "convert_tensor = tf.convert_to_tensor(np_array)\n",
        "print(convert_tensor)"
      ],
      "metadata": {
        "colab": {
          "base_uri": "https://localhost:8080/"
        },
        "id": "ZlTcrdt-8vf9",
        "outputId": "1d1724bb-4b08-42f3-874a-3c22c692cb3b"
      },
      "execution_count": null,
      "outputs": [
        {
          "output_type": "stream",
          "name": "stdout",
          "text": [
            "tf.Tensor([1 3 5], shape=(3,), dtype=int64)\n"
          ]
        }
      ]
    },
    {
      "cell_type": "code",
      "source": [
        "eye_tensor = tf.eye(\n",
        "    num_rows = 4,\n",
        "    num_columns=3,\n",
        "    batch_shape=[2,],\n",
        "    dtype=tf.dtypes.bool,\n",
        "    name=None\n",
        ")\n",
        "print(eye_tensor)"
      ],
      "metadata": {
        "colab": {
          "base_uri": "https://localhost:8080/"
        },
        "id": "vibnHic388Zl",
        "outputId": "88d7c14a-9ce1-4979-d147-3ba5bc790d13"
      },
      "execution_count": null,
      "outputs": [
        {
          "output_type": "stream",
          "name": "stdout",
          "text": [
            "tf.Tensor(\n",
            "[[[ True False False]\n",
            "  [False  True False]\n",
            "  [False False  True]\n",
            "  [False False False]]\n",
            "\n",
            " [[ True False False]\n",
            "  [False  True False]\n",
            "  [False False  True]\n",
            "  [False False False]]], shape=(2, 4, 3), dtype=bool)\n"
          ]
        }
      ]
    },
    {
      "cell_type": "code",
      "source": [
        "fill_tensor = tf.fill(\n",
        "    [2,3,2],5, name=None\n",
        ")\n",
        "print(fill_tensor)"
      ],
      "metadata": {
        "colab": {
          "base_uri": "https://localhost:8080/"
        },
        "id": "7NBDKxR-9yOL",
        "outputId": "ba43c462-9a97-450f-e372-c37f7033d4bf"
      },
      "execution_count": null,
      "outputs": [
        {
          "output_type": "stream",
          "name": "stdout",
          "text": [
            "tf.Tensor(\n",
            "[[[5 5]\n",
            "  [5 5]\n",
            "  [5 5]]\n",
            "\n",
            " [[5 5]\n",
            "  [5 5]\n",
            "  [5 5]]], shape=(2, 3, 2), dtype=int32)\n"
          ]
        }
      ]
    },
    {
      "cell_type": "code",
      "source": [
        "ones_tensor = tf.ones(\n",
        "    [2,5,6],\n",
        "    dtype=tf.dtypes.float32,\n",
        "    name=None\n",
        ")\n",
        "print(ones_tensor)"
      ],
      "metadata": {
        "colab": {
          "base_uri": "https://localhost:8080/"
        },
        "id": "dDg-YmE7_DCk",
        "outputId": "5dda7336-5337-428d-a7fd-a4cb0de2c632"
      },
      "execution_count": null,
      "outputs": [
        {
          "output_type": "stream",
          "name": "stdout",
          "text": [
            "tf.Tensor(\n",
            "[[[1. 1. 1. 1. 1. 1.]\n",
            "  [1. 1. 1. 1. 1. 1.]\n",
            "  [1. 1. 1. 1. 1. 1.]\n",
            "  [1. 1. 1. 1. 1. 1.]\n",
            "  [1. 1. 1. 1. 1. 1.]]\n",
            "\n",
            " [[1. 1. 1. 1. 1. 1.]\n",
            "  [1. 1. 1. 1. 1. 1.]\n",
            "  [1. 1. 1. 1. 1. 1.]\n",
            "  [1. 1. 1. 1. 1. 1.]\n",
            "  [1. 1. 1. 1. 1. 1.]]], shape=(2, 5, 6), dtype=float32)\n"
          ]
        }
      ]
    },
    {
      "cell_type": "code",
      "source": [
        "random_tensor = tf.random.normal(\n",
        "    [3,2],\n",
        "    mean=10.0,\n",
        "    stddev=1.0,\n",
        "    dtype=tf.dtypes.float32,\n",
        "    seed=None,\n",
        "    name=None\n",
        ")\n",
        "print(random_tensor)"
      ],
      "metadata": {
        "colab": {
          "base_uri": "https://localhost:8080/"
        },
        "id": "A2mKWIUuAE-o",
        "outputId": "2bd97ba3-1faa-469e-fd7d-ae3fac3260f7"
      },
      "execution_count": null,
      "outputs": [
        {
          "output_type": "stream",
          "name": "stdout",
          "text": [
            "tf.Tensor(\n",
            "[[ 9.397194   7.695371 ]\n",
            " [ 9.52965   10.379027 ]\n",
            " [11.522743   7.9417777]], shape=(3, 2), dtype=float32)\n"
          ]
        }
      ]
    },
    {
      "cell_type": "code",
      "source": [
        "rando_tensor = tf.random.uniform(\n",
        "    [3,],\n",
        "    minval=0,\n",
        "    maxval=100,\n",
        "    dtype=tf.dtypes.int32,\n",
        "    seed=None,\n",
        "    name=None\n",
        ")\n",
        "print(rando_tensor)"
      ],
      "metadata": {
        "id": "acniTo6rC1oc",
        "colab": {
          "base_uri": "https://localhost:8080/"
        },
        "outputId": "89aed1e2-57a0-4a4e-acd6-361fe483d5cd"
      },
      "execution_count": null,
      "outputs": [
        {
          "output_type": "stream",
          "name": "stdout",
          "text": [
            "tf.Tensor([80 31 96], shape=(3,), dtype=int32)\n"
          ]
        }
      ]
    },
    {
      "cell_type": "markdown",
      "source": [
        "Indexing"
      ],
      "metadata": {
        "id": "tDatmYKeK9Jm"
      }
    },
    {
      "cell_type": "code",
      "source": [
        "tensor_indexed = tf.constant([5,3,6,7,4,5,2])\n",
        "print(tensor_indexed)"
      ],
      "metadata": {
        "colab": {
          "base_uri": "https://localhost:8080/"
        },
        "id": "JPRvuDEXLBWe",
        "outputId": "1f2a7600-84ac-410d-c53f-cf099004e62e"
      },
      "execution_count": null,
      "outputs": [
        {
          "output_type": "stream",
          "name": "stdout",
          "text": [
            "tf.Tensor([5 3 6 7 4 5 2], shape=(7,), dtype=int32)\n"
          ]
        }
      ]
    },
    {
      "cell_type": "code",
      "source": [
        "# Get the first two columns\n",
        "tensor_twod = tf.constant([\n",
        "    [4,5,5],\n",
        "    [1,7,3],\n",
        "    [3,5,1],\n",
        "    [2,6,6]\n",
        "])\n",
        "print(tensor_twod[0:3,0:2])"
      ],
      "metadata": {
        "id": "r7Mhr9VgLO6N",
        "colab": {
          "base_uri": "https://localhost:8080/"
        },
        "outputId": "3daf2495-a66c-4874-c25b-20129ad0c38a"
      },
      "execution_count": null,
      "outputs": [
        {
          "output_type": "stream",
          "name": "stdout",
          "text": [
            "tf.Tensor(\n",
            "[[4 5]\n",
            " [1 7]\n",
            " [3 5]], shape=(3, 2), dtype=int32)\n"
          ]
        }
      ]
    },
    {
      "cell_type": "markdown",
      "source": [
        "Math Operations"
      ],
      "metadata": {
        "id": "rjQDKul6Rlip"
      }
    },
    {
      "cell_type": "code",
      "source": [
        "x_abs = tf.constant([3,5])\n",
        "tf.abs(x_abs)"
      ],
      "metadata": {
        "id": "rgZaBnAzRnog",
        "colab": {
          "base_uri": "https://localhost:8080/"
        },
        "outputId": "184887ed-bf72-4bf2-b985-42946bbca01b"
      },
      "execution_count": null,
      "outputs": [
        {
          "output_type": "execute_result",
          "data": {
            "text/plain": [
              "<tf.Tensor: shape=(2,), dtype=int32, numpy=array([3, 5], dtype=int32)>"
            ]
          },
          "metadata": {},
          "execution_count": 69
        }
      ]
    },
    {
      "cell_type": "code",
      "source": [
        "x = tf.constant([[-2.25 + 4.75j], [-3.25 + 5.75j]])\n",
        "tf.abs(x)"
      ],
      "metadata": {
        "colab": {
          "base_uri": "https://localhost:8080/"
        },
        "id": "VScrPX9nXN83",
        "outputId": "d74a7291-8019-497d-8399-f1f734048054"
      },
      "execution_count": null,
      "outputs": [
        {
          "output_type": "execute_result",
          "data": {
            "text/plain": [
              "<tf.Tensor: shape=(2, 1), dtype=float64, numpy=\n",
              "array([[5.25594901],\n",
              "       [6.60492241]])>"
            ]
          },
          "metadata": {},
          "execution_count": 70
        }
      ]
    },
    {
      "cell_type": "code",
      "source": [
        "tf.sqrt((-3.2)**2 + 4**2)"
      ],
      "metadata": {
        "id": "dWz0FjbMYHvg",
        "colab": {
          "base_uri": "https://localhost:8080/"
        },
        "outputId": "7bf25ada-1978-424e-d327-46dd2d45d47d"
      },
      "execution_count": null,
      "outputs": [
        {
          "output_type": "execute_result",
          "data": {
            "text/plain": [
              "<tf.Tensor: shape=(), dtype=float32, numpy=5.1224995>"
            ]
          },
          "metadata": {},
          "execution_count": 73
        }
      ]
    },
    {
      "cell_type": "code",
      "source": [
        "a = tf.constant([2,4,6,5,8], dtype=tf.int32)\n",
        "b = tf.constant([8,6,2,4,6], dtype=tf.int32)\n",
        "print(tf.math.add(a,b))\n",
        "print(tf.multiply(a,b))"
      ],
      "metadata": {
        "colab": {
          "base_uri": "https://localhost:8080/"
        },
        "id": "0Zh_Mq4HePE7",
        "outputId": "5447d1a9-6f51-4f87-f817-874fccfbbd15"
      },
      "execution_count": null,
      "outputs": [
        {
          "output_type": "stream",
          "name": "stdout",
          "text": [
            "tf.Tensor([10 10  8  9 14], shape=(5,), dtype=int32)\n",
            "tf.Tensor([16 24 12 20 48], shape=(5,), dtype=int32)\n"
          ]
        }
      ]
    },
    {
      "cell_type": "code",
      "source": [
        "x_arg = tf.constant([21,54,87,45,12])\n",
        "print(tf.math.argmax(x_arg))"
      ],
      "metadata": {
        "id": "UhI_HMdzez4O",
        "colab": {
          "base_uri": "https://localhost:8080/"
        },
        "outputId": "ee93784b-84e7-4f8a-81d4-ad756cc23859"
      },
      "execution_count": null,
      "outputs": [
        {
          "output_type": "stream",
          "name": "stdout",
          "text": [
            "tf.Tensor(2, shape=(), dtype=int64)\n"
          ]
        }
      ]
    },
    {
      "cell_type": "code",
      "source": [
        "x = tf.constant([[2, 2], [3, 3]])\n",
        "y = tf.constant([[2, 1], [2, 3]])\n",
        "tf.pow(x, y)"
      ],
      "metadata": {
        "colab": {
          "base_uri": "https://localhost:8080/"
        },
        "id": "J62EQ33MjPkC",
        "outputId": "9a247732-3bfa-409c-8a50-12760e736d3c"
      },
      "execution_count": null,
      "outputs": [
        {
          "output_type": "execute_result",
          "data": {
            "text/plain": [
              "<tf.Tensor: shape=(2, 2), dtype=int32, numpy=\n",
              "array([[ 4,  2],\n",
              "       [ 9, 27]], dtype=int32)>"
            ]
          },
          "metadata": {},
          "execution_count": 81
        }
      ]
    },
    {
      "cell_type": "code",
      "source": [
        "tf.pow(tf.constant(3),tf.constant(3))"
      ],
      "metadata": {
        "colab": {
          "base_uri": "https://localhost:8080/"
        },
        "id": "XVxyt-fjmASE",
        "outputId": "b4d6d9c6-047d-42a1-bdb9-c2c6a73be758"
      },
      "execution_count": null,
      "outputs": [
        {
          "output_type": "execute_result",
          "data": {
            "text/plain": [
              "<tf.Tensor: shape=(), dtype=int32, numpy=27>"
            ]
          },
          "metadata": {},
          "execution_count": 84
        }
      ]
    },
    {
      "cell_type": "code",
      "source": [
        "tensor_twod = tf.constant([\n",
        "    [2,4,3],\n",
        "    [3,4,7],\n",
        "    [5,-2,3],\n",
        "    [2,4,9]\n",
        "])\n",
        "print(tensor_twod)\n",
        "print(tf.math.reduce_max(tensor_twod, axis=None, keepdims=False, name=None))\n",
        "print(tf.math.reduce_sum(tensor_twod, axis=0, keepdims=False, name=None))"
      ],
      "metadata": {
        "colab": {
          "base_uri": "https://localhost:8080/"
        },
        "id": "Fz8clg4MmjWq",
        "outputId": "72668c5b-dbee-4694-d788-6bee300f57a4"
      },
      "execution_count": null,
      "outputs": [
        {
          "output_type": "stream",
          "name": "stdout",
          "text": [
            "tf.Tensor(\n",
            "[[ 2  4  3]\n",
            " [ 3  4  7]\n",
            " [ 5 -2  3]\n",
            " [ 2  4  9]], shape=(4, 3), dtype=int32)\n",
            "tf.Tensor(9, shape=(), dtype=int32)\n",
            "tf.Tensor([12 10 22], shape=(3,), dtype=int32)\n"
          ]
        }
      ]
    },
    {
      "cell_type": "code",
      "source": [
        "tf.math.top_k(tensor_twod, k = 2)"
      ],
      "metadata": {
        "id": "FhQsN_5JncL2",
        "colab": {
          "base_uri": "https://localhost:8080/"
        },
        "outputId": "93136aaa-b1ed-4aee-fcb0-cd083407cd5d"
      },
      "execution_count": null,
      "outputs": [
        {
          "output_type": "execute_result",
          "data": {
            "text/plain": [
              "TopKV2(values=<tf.Tensor: shape=(4, 2), dtype=int32, numpy=\n",
              "array([[4, 3],\n",
              "       [7, 4],\n",
              "       [5, 3],\n",
              "       [9, 4]], dtype=int32)>, indices=<tf.Tensor: shape=(4, 2), dtype=int32, numpy=\n",
              "array([[1, 2],\n",
              "       [2, 1],\n",
              "       [0, 2],\n",
              "       [2, 1]], dtype=int32)>)"
            ]
          },
          "metadata": {},
          "execution_count": 94
        }
      ]
    },
    {
      "cell_type": "markdown",
      "source": [
        "Linear Algebra Operations"
      ],
      "metadata": {
        "id": "UJSCciXK4r-f"
      }
    },
    {
      "cell_type": "code",
      "source": [
        "a = tf.constant([\n",
        "    [4,5,6],\n",
        "    [4,8,6]\n",
        "])\n",
        "b = tf.constant([\n",
        "    [3,5,2],\n",
        "    [1,2,4],\n",
        "    [2,3,4]\n",
        "])\n",
        "print(a.shape,b.shape)\n",
        "tf.linalg.matmul(\n",
        "    a,\n",
        "    b,\n",
        "    transpose_a=False,\n",
        "    transpose_b=False,\n",
        "    adjoint_a=False,\n",
        "    adjoint_b=False,\n",
        "    a_is_sparse=False,\n",
        "    b_is_sparse=False,\n",
        "    output_type=None,\n",
        "    name=None\n",
        ")\n"
      ],
      "metadata": {
        "colab": {
          "base_uri": "https://localhost:8080/"
        },
        "id": "oKHjCVJp4v4C",
        "outputId": "b7a01cf6-7a93-49d2-dc7e-77bc08a68673"
      },
      "execution_count": null,
      "outputs": [
        {
          "output_type": "stream",
          "name": "stdout",
          "text": [
            "(2, 3) (3, 3)\n"
          ]
        },
        {
          "output_type": "execute_result",
          "data": {
            "text/plain": [
              "<tf.Tensor: shape=(2, 3), dtype=int32, numpy=\n",
              "array([[29, 48, 52],\n",
              "       [32, 54, 64]], dtype=int32)>"
            ]
          },
          "metadata": {},
          "execution_count": 5
        }
      ]
    },
    {
      "cell_type": "code",
      "source": [
        "print(a@b)\n",
        "# @ matrix multiplication\n",
        "# ~ element-wise multiplication"
      ],
      "metadata": {
        "id": "e0JG_J8q5zUT",
        "colab": {
          "base_uri": "https://localhost:8080/"
        },
        "outputId": "d178714d-a7a1-4793-fdd4-9c3033800fda"
      },
      "execution_count": null,
      "outputs": [
        {
          "output_type": "stream",
          "name": "stdout",
          "text": [
            "tf.Tensor(\n",
            "[[29 48 52]\n",
            " [32 54 64]], shape=(2, 3), dtype=int32)\n"
          ]
        }
      ]
    },
    {
      "cell_type": "code",
      "source": [
        "tf.transpose(a)"
      ],
      "metadata": {
        "colab": {
          "base_uri": "https://localhost:8080/"
        },
        "id": "syhfV4BMCTfk",
        "outputId": "daa6cc4a-4367-4dc8-d300-f9edf3114598"
      },
      "execution_count": null,
      "outputs": [
        {
          "output_type": "execute_result",
          "data": {
            "text/plain": [
              "<tf.Tensor: shape=(3, 2), dtype=int32, numpy=\n",
              "array([[4, 4],\n",
              "       [5, 8],\n",
              "       [6, 6]], dtype=int32)>"
            ]
          },
          "metadata": {},
          "execution_count": 8
        }
      ]
    },
    {
      "cell_type": "code",
      "source": [
        "# Copy a tensor setting everything outside a central band in each innermost matrix to zero\n"
      ],
      "metadata": {
        "id": "JkQNueKjDM_B"
      },
      "execution_count": null,
      "outputs": []
    },
    {
      "cell_type": "code",
      "source": [
        "# inverse of a matrix\n",
        "tensor_inv = tf.constant([\n",
        "    [2,5,3],\n",
        "    [2,5,8],\n",
        "    [3,4,1]\n",
        "], dtype=tf.float32)\n",
        "tf.linalg.inv(tensor_inv)"
      ],
      "metadata": {
        "colab": {
          "base_uri": "https://localhost:8080/"
        },
        "id": "udVySlkbittc",
        "outputId": "118e21bf-4543-4b16-b705-f5d0cb289606"
      },
      "execution_count": null,
      "outputs": [
        {
          "output_type": "execute_result",
          "data": {
            "text/plain": [
              "<tf.Tensor: shape=(3, 3), dtype=float32, numpy=\n",
              "array([[-0.7714286 ,  0.20000003,  0.71428573],\n",
              "       [ 0.62857145, -0.20000002, -0.2857143 ],\n",
              "       [-0.2       ,  0.2       , -0.        ]], dtype=float32)>"
            ]
          },
          "metadata": {},
          "execution_count": 11
        }
      ]
    },
    {
      "cell_type": "code",
      "source": [
        "# Computes the singular value decompositions of one or more matrices\n",
        "# s is a tensor of singular values.\n",
        "# u is a tensor of left singular vectors.\n",
        "# v is a tensor of right singular vectors.\n",
        "s,u,v = tf.linalg.svd(tensor_inv)\n",
        "print(s)\n",
        "print(u)\n",
        "print(v)"
      ],
      "metadata": {
        "colab": {
          "base_uri": "https://localhost:8080/"
        },
        "id": "BsOnkwaji8gk",
        "outputId": "a8e0faaa-8151-4d10-d918-819ba094036f"
      },
      "execution_count": null,
      "outputs": [
        {
          "output_type": "stream",
          "name": "stdout",
          "text": [
            "tf.Tensor([11.917906    3.7898734   0.77489656], shape=(3,), dtype=float32)\n",
            "tf.Tensor(\n",
            "[[ 0.5010848   0.37027884 -0.78218156]\n",
            " [ 0.7886414  -0.567524    0.23656172]\n",
            " [ 0.35631293  0.73539805  0.5763948 ]], shape=(3, 3), dtype=float32)\n",
            "tf.Tensor(\n",
            "[[ 0.30612695  0.47803822  0.82326543]\n",
            " [ 0.66067696  0.5159452  -0.5452585 ]\n",
            " [ 0.68541414 -0.7108308   0.15788412]], shape=(3, 3), dtype=float32)\n"
          ]
        }
      ]
    },
    {
      "cell_type": "markdown",
      "source": [
        "Einsum Operator"
      ],
      "metadata": {
        "id": "AGB4CVbco7nw"
      }
    },
    {
      "cell_type": "code",
      "source": [
        "A = np.array([\n",
        "    [5,2,3,4],\n",
        "    [4,2,1,6],\n",
        "    [2,3,6,9]])\n",
        "B = np.array([\n",
        "    [3,1,5,6,1],\n",
        "    [1,3,4,5,6],\n",
        "    [3,1,4,6,5],\n",
        "    [1,3,5,2,1]])\n",
        "print(\"Matmul C =: \\n\")\n",
        "print(np.matmul(A,B), \"\\n\")\n",
        "print(\"Eisum C =: \\n\")\n",
        "print(np.einsum('ij,jk -> ik', A,B))"
      ],
      "metadata": {
        "colab": {
          "base_uri": "https://localhost:8080/"
        },
        "id": "-C7rVjAto-2W",
        "outputId": "b763319e-7c84-4758-9eb3-55c5c815f6b2"
      },
      "execution_count": null,
      "outputs": [
        {
          "output_type": "stream",
          "name": "stdout",
          "text": [
            "Matmul C =: \n",
            "\n",
            "[[30 26 65 66 36]\n",
            " [23 29 62 52 27]\n",
            " [36 44 91 81 59]] \n",
            "\n",
            "Eisum C =: \n",
            "\n",
            "[[30 26 65 66 36]\n",
            " [23 29 62 52 27]\n",
            " [36 44 91 81 59]]\n"
          ]
        }
      ]
    },
    {
      "cell_type": "code",
      "source": [
        "tensor_threed = tf.constant([\n",
        "    [\n",
        "        [1,2,3],\n",
        "        [2,3,5]\n",
        "    ],\n",
        "    [\n",
        "        [5,4,7],\n",
        "        [3,6,7]\n",
        "    ],\n",
        "    [\n",
        "        [7,8,7],\n",
        "        [5,6,9]\n",
        "    ]\n",
        "])\n",
        "print(tensor_threed.shape)\n",
        "print(tf.expand_dims(tensor_threed, axis=0))"
      ],
      "metadata": {
        "id": "XSSE-nGPp8c1",
        "colab": {
          "base_uri": "https://localhost:8080/"
        },
        "outputId": "f79f5b75-24cb-4257-ebd1-cf01d63086a6"
      },
      "execution_count": null,
      "outputs": [
        {
          "output_type": "stream",
          "name": "stdout",
          "text": [
            "(3, 2, 3)\n",
            "tf.Tensor(\n",
            "[[[[1 2 3]\n",
            "   [2 3 5]]\n",
            "\n",
            "  [[5 4 7]\n",
            "   [3 6 7]]\n",
            "\n",
            "  [[7 8 7]\n",
            "   [5 6 9]]]], shape=(1, 3, 2, 3), dtype=int32)\n"
          ]
        }
      ]
    },
    {
      "cell_type": "code",
      "source": [
        "x = tf.constant([[[3,2,4]]])\n",
        "print(x.shape)\n",
        "x_expanded = tf.expand_dims(x, axis = 0)\n",
        "print(x_expanded)"
      ],
      "metadata": {
        "colab": {
          "base_uri": "https://localhost:8080/"
        },
        "id": "0VGuJfK41iuL",
        "outputId": "708885de-f89a-4f83-efcc-0cbd3ac855c9"
      },
      "execution_count": null,
      "outputs": [
        {
          "output_type": "stream",
          "name": "stdout",
          "text": [
            "(1, 1, 3)\n",
            "tf.Tensor([[[[3 2 4]]]], shape=(1, 1, 1, 3), dtype=int32)\n"
          ]
        }
      ]
    },
    {
      "cell_type": "code",
      "source": [
        "x_squeezed = tf.squeeze(x_expanded, axis = 0)\n",
        "for i in range(2):\n",
        "  x_squeezed = tf.squeeze(x_squeezed, axis = 0)\n",
        "\n",
        "print(x_squeezed)"
      ],
      "metadata": {
        "colab": {
          "base_uri": "https://localhost:8080/"
        },
        "id": "caBIj1852rXs",
        "outputId": "195ffb29-2234-4b83-878c-0b26da344421"
      },
      "execution_count": null,
      "outputs": [
        {
          "output_type": "stream",
          "name": "stdout",
          "text": [
            "tf.Tensor([3 2 4], shape=(3,), dtype=int32)\n"
          ]
        }
      ]
    },
    {
      "cell_type": "code",
      "source": [
        "# Concatenates tensors along one dimension\n",
        "# axis 0 or 1\n",
        "t1 = [\n",
        "    [2,4,3],\n",
        "    [5,6,1]]\n",
        "t2 = [\n",
        "    [2,1,3],\n",
        "    [1,5,4]]\n",
        "tf.concat([t1,t2], axis=1)\n"
      ],
      "metadata": {
        "id": "aQk49nq43Kc5",
        "colab": {
          "base_uri": "https://localhost:8080/"
        },
        "outputId": "efc47efe-64e6-4d37-fd4b-cc65d9a38678"
      },
      "execution_count": null,
      "outputs": [
        {
          "output_type": "execute_result",
          "data": {
            "text/plain": [
              "<tf.Tensor: shape=(2, 6), dtype=int32, numpy=\n",
              "array([[2, 4, 3, 2, 1, 3],\n",
              "       [5, 6, 1, 1, 5, 4]], dtype=int32)>"
            ]
          },
          "metadata": {},
          "execution_count": 29
        }
      ]
    },
    {
      "cell_type": "code",
      "source": [
        "tf.stack([t1,t2], axis=1)"
      ],
      "metadata": {
        "colab": {
          "base_uri": "https://localhost:8080/"
        },
        "id": "8Ky-4VLy58AK",
        "outputId": "c0c128ca-35c5-4c5c-d4b8-06f0d738a43c"
      },
      "execution_count": null,
      "outputs": [
        {
          "output_type": "execute_result",
          "data": {
            "text/plain": [
              "<tf.Tensor: shape=(2, 2, 3), dtype=int32, numpy=\n",
              "array([[[2, 4, 3],\n",
              "        [2, 1, 3]],\n",
              "\n",
              "       [[5, 6, 1],\n",
              "        [1, 5, 4]]], dtype=int32)>"
            ]
          },
          "metadata": {},
          "execution_count": 31
        }
      ]
    },
    {
      "cell_type": "code",
      "source": [
        "t = tf.constant([[1, 2, 3], [4, 5, 6]])\n",
        "paddings = tf.constant([[1, 1,],  # one row above, one row below\n",
        "                      [2, 2]])\n",
        "tf.pad(t, paddings, \"CONSTANT\", constant_values=3)"
      ],
      "metadata": {
        "colab": {
          "base_uri": "https://localhost:8080/"
        },
        "id": "2_9RJzo98mUh",
        "outputId": "c0cdb02f-1136-45e5-badb-140dc90eb6fa"
      },
      "execution_count": null,
      "outputs": [
        {
          "output_type": "execute_result",
          "data": {
            "text/plain": [
              "<tf.Tensor: shape=(4, 7), dtype=int32, numpy=\n",
              "array([[3, 3, 3, 3, 3, 3, 3],\n",
              "       [3, 3, 1, 2, 3, 3, 3],\n",
              "       [3, 3, 4, 5, 6, 3, 3],\n",
              "       [3, 3, 3, 3, 3, 3, 3]], dtype=int32)>"
            ]
          },
          "metadata": {},
          "execution_count": 35
        }
      ]
    },
    {
      "cell_type": "code",
      "source": [
        "# Gather slices from params axis axis according to indices. (deprecated arguments)\n",
        "params = tf.constant(['p0', 'p1', 'p2', 'p3', 'p4', 'p5'])\n",
        "params[0:3]\n",
        "tf.gather(params,tf.range(2,4))"
      ],
      "metadata": {
        "id": "42UO2KhF-VRi",
        "colab": {
          "base_uri": "https://localhost:8080/"
        },
        "outputId": "23c6ea9a-8285-4523-c720-44cd5fad6592"
      },
      "execution_count": null,
      "outputs": [
        {
          "output_type": "execute_result",
          "data": {
            "text/plain": [
              "<tf.Tensor: shape=(2,), dtype=string, numpy=array([b'p2', b'p3'], dtype=object)>"
            ]
          },
          "metadata": {},
          "execution_count": 39
        }
      ]
    },
    {
      "cell_type": "code",
      "source": [
        "params = tf.constant([[0, 1.0, 2.0],\n",
        "                      [10.0, 11.0, 12.0],\n",
        "                      [20.0, 21.0, 22.0],\n",
        "                      [30.0, 31.0, 32.0]])\n",
        "\n",
        "print(params.shape)"
      ],
      "metadata": {
        "id": "S-TlbzyzAcLP",
        "colab": {
          "base_uri": "https://localhost:8080/"
        },
        "outputId": "c12bd16f-bfcd-4055-e711-309aa96adc32"
      },
      "execution_count": null,
      "outputs": [
        {
          "output_type": "stream",
          "name": "stdout",
          "text": [
            "(4, 3)\n"
          ]
        }
      ]
    },
    {
      "cell_type": "code",
      "source": [
        "tf.gather(params,[2,0], axis = 0)"
      ],
      "metadata": {
        "colab": {
          "base_uri": "https://localhost:8080/"
        },
        "id": "HhGfxc46DaQh",
        "outputId": "54ed2ed1-b59a-49e0-8659-72c8d8bcf1d2"
      },
      "execution_count": null,
      "outputs": [
        {
          "output_type": "execute_result",
          "data": {
            "text/plain": [
              "<tf.Tensor: shape=(2, 3), dtype=float32, numpy=\n",
              "array([[20., 21., 22.],\n",
              "       [ 0.,  1.,  2.]], dtype=float32)>"
            ]
          },
          "metadata": {},
          "execution_count": 42
        }
      ]
    },
    {
      "cell_type": "code",
      "source": [
        "indices = [[0],\n",
        "           [1]]\n",
        "params = [\n",
        "    ['a', 'b'],\n",
        "    ['c', 'd']]\n",
        "\n",
        "tf.gather_nd(params, indices)"
      ],
      "metadata": {
        "colab": {
          "base_uri": "https://localhost:8080/"
        },
        "id": "PCrdYXoPDg_J",
        "outputId": "ce2a1c26-e7f0-4170-e2da-5a6a27a993e1"
      },
      "execution_count": null,
      "outputs": [
        {
          "output_type": "execute_result",
          "data": {
            "text/plain": [
              "<tf.Tensor: shape=(2, 2), dtype=string, numpy=\n",
              "array([[b'a', b'b'],\n",
              "       [b'c', b'd']], dtype=object)>"
            ]
          },
          "metadata": {},
          "execution_count": 43
        }
      ]
    },
    {
      "cell_type": "code",
      "source": [
        "# ragged tensors. Tensors with non-uniform shape\n",
        "tensor_td = [\n",
        "    [2,3,1],\n",
        "    [2],\n",
        "    [4,2],\n",
        "    [5,3,2,4]\n",
        "]\n",
        "tensor_ragged = tf.ragged.constant(tensor_td)\n",
        "print(tensor_ragged)"
      ],
      "metadata": {
        "id": "YLfwdrchEqqw",
        "colab": {
          "base_uri": "https://localhost:8080/"
        },
        "outputId": "521cad20-10f5-4818-9185-bf37c7bae6ac"
      },
      "execution_count": null,
      "outputs": [
        {
          "output_type": "stream",
          "name": "stdout",
          "text": [
            "<tf.RaggedTensor [[2, 3, 1], [2], [4, 2], [5, 3, 2, 4]]>\n"
          ]
        }
      ]
    },
    {
      "cell_type": "code",
      "source": [
        "print(tf.RaggedTensor.from_row_lengths(\n",
        "    values=[3, 1, 4, 1, 5, 9, 2, 6],\n",
        "    row_lengths=[4, 0, 3, 1, 0]))"
      ],
      "metadata": {
        "colab": {
          "base_uri": "https://localhost:8080/"
        },
        "id": "ZL1kIgWlJgsZ",
        "outputId": "4797821a-8185-4a51-eef1-66522a9c7fe4"
      },
      "execution_count": 51,
      "outputs": [
        {
          "output_type": "stream",
          "name": "stdout",
          "text": [
            "<tf.RaggedTensor [[3, 1, 4, 1], [], [5, 9, 2], [6], []]>\n"
          ]
        }
      ]
    },
    {
      "cell_type": "code",
      "source": [],
      "metadata": {
        "id": "zDP7uQsOMoVv"
      },
      "execution_count": null,
      "outputs": []
    }
  ]
}