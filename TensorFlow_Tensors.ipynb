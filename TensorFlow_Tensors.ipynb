{
  "nbformat": 4,
  "nbformat_minor": 0,
  "metadata": {
    "colab": {
      "provenance": [],
      "authorship_tag": "ABX9TyMGYcc5IifGfFjmxs3sYR8s",
      "include_colab_link": true
    },
    "kernelspec": {
      "name": "python3",
      "display_name": "Python 3"
    },
    "language_info": {
      "name": "python"
    }
  },
  "cells": [
    {
      "cell_type": "markdown",
      "metadata": {
        "id": "view-in-github",
        "colab_type": "text"
      },
      "source": [
        "<a href=\"https://colab.research.google.com/github/NelsonPixels/TensorFlow/blob/main/TensorFlow_Tensors.ipynb\" target=\"_parent\"><img src=\"https://colab.research.google.com/assets/colab-badge.svg\" alt=\"Open In Colab\"/></a>"
      ]
    },
    {
      "cell_type": "code",
      "execution_count": null,
      "metadata": {
        "id": "0VUGYO2ag6AX"
      },
      "outputs": [],
      "source": [
        "import tensorflow as tf"
      ]
    },
    {
      "cell_type": "code",
      "source": [
        "tensor_zerod = tf.constant(4)\n",
        "print(tensor_zerod)"
      ],
      "metadata": {
        "colab": {
          "base_uri": "https://localhost:8080/"
        },
        "id": "C9sYWdlTnVxz",
        "outputId": "8a9fd80d-7b2c-4a17-f862-80c743a3107f"
      },
      "execution_count": null,
      "outputs": [
        {
          "output_type": "stream",
          "name": "stdout",
          "text": [
            "tf.Tensor(4, shape=(), dtype=int32)\n"
          ]
        }
      ]
    },
    {
      "cell_type": "code",
      "source": [
        "tensor_oned = tf.constant([2,0,-3,5])\n",
        "print(tensor_oned)"
      ],
      "metadata": {
        "colab": {
          "base_uri": "https://localhost:8080/"
        },
        "id": "FxIfmq9PnYUh",
        "outputId": "09e83db7-135d-4831-c4d1-6c50a86ee06c"
      },
      "execution_count": null,
      "outputs": [
        {
          "output_type": "stream",
          "name": "stdout",
          "text": [
            "tf.Tensor([ 2  0 -3  5], shape=(4,), dtype=int32)\n"
          ]
        }
      ]
    },
    {
      "cell_type": "code",
      "source": [
        "tensor_twod = tf.constant([\n",
        "    [2,4,5],\n",
        "    [3,5,6],\n",
        "    [7,8,2],\n",
        "    [2,4,5]\n",
        "])\n",
        "print(tensor_twod)"
      ],
      "metadata": {
        "colab": {
          "base_uri": "https://localhost:8080/"
        },
        "id": "2vWwXWTCnYYa",
        "outputId": "48cafbc7-5458-4db7-ab7a-d1f82bf7b245"
      },
      "execution_count": null,
      "outputs": [
        {
          "output_type": "stream",
          "name": "stdout",
          "text": [
            "tf.Tensor(\n",
            "[[2 4 5]\n",
            " [3 5 6]\n",
            " [7 8 2]\n",
            " [2 4 5]], shape=(4, 3), dtype=int32)\n"
          ]
        }
      ]
    },
    {
      "cell_type": "code",
      "source": [
        "tensor_threed = tf.constant([\n",
        "    [\n",
        "        [1,2,3],\n",
        "        [2,3,5]\n",
        "    ],\n",
        "    [\n",
        "        [5,4,7],\n",
        "        [3,6,7]\n",
        "    ],\n",
        "    [\n",
        "        [7,8,7],\n",
        "        [5,6,9]\n",
        "    ]\n",
        "])\n",
        "\n",
        "print(tensor_threed)\n",
        "# print shape - print(tensor_threed.shape)\n",
        "# number of dimension - print(tensor_threed.ndim)"
      ],
      "metadata": {
        "colab": {
          "base_uri": "https://localhost:8080/"
        },
        "id": "jImsD8xHpOWx",
        "outputId": "2a95e057-72ef-457b-d488-d3d7458c549f"
      },
      "execution_count": null,
      "outputs": [
        {
          "output_type": "stream",
          "name": "stdout",
          "text": [
            "tf.Tensor(\n",
            "[[[1 2 3]\n",
            "  [2 3 5]]\n",
            "\n",
            " [[5 4 7]\n",
            "  [3 6 7]]\n",
            "\n",
            " [[7 8 7]\n",
            "  [5 6 9]]], shape=(3, 2, 3), dtype=int32)\n"
          ]
        }
      ]
    },
    {
      "cell_type": "code",
      "source": [
        "tensor_fourd = tf.constant([\n",
        "    [\n",
        "    [\n",
        "        [1,2,3],\n",
        "        [2,3,5]\n",
        "    ],\n",
        "    [\n",
        "        [5,4,7],\n",
        "        [3,6,7]\n",
        "    ],\n",
        "    [\n",
        "        [7,8,7],\n",
        "        [5,6,9]\n",
        "    ]\n",
        "],\n",
        "    [\n",
        "    [\n",
        "        [1,2,3],\n",
        "        [2,3,5]\n",
        "    ],\n",
        "    [\n",
        "        [5,4,7],\n",
        "        [3,6,7]\n",
        "    ],\n",
        "    [\n",
        "        [7,8,7],\n",
        "        [5,6,9]\n",
        "    ]\n",
        "]\n",
        "])\n",
        "print(tensor_fourd)"
      ],
      "metadata": {
        "id": "5R6OFY7BqeHV",
        "colab": {
          "base_uri": "https://localhost:8080/"
        },
        "outputId": "9b1242dd-0959-4b62-e993-03eb81ce8353"
      },
      "execution_count": 20,
      "outputs": [
        {
          "output_type": "stream",
          "name": "stdout",
          "text": [
            "tf.Tensor(\n",
            "[[[[1 2 3]\n",
            "   [2 3 5]]\n",
            "\n",
            "  [[5 4 7]\n",
            "   [3 6 7]]\n",
            "\n",
            "  [[7 8 7]\n",
            "   [5 6 9]]]\n",
            "\n",
            "\n",
            " [[[1 2 3]\n",
            "   [2 3 5]]\n",
            "\n",
            "  [[5 4 7]\n",
            "   [3 6 7]]\n",
            "\n",
            "  [[7 8 7]\n",
            "   [5 6 9]]]], shape=(2, 3, 2, 3), dtype=int32)\n"
          ]
        }
      ]
    },
    {
      "cell_type": "code",
      "source": [],
      "metadata": {
        "id": "k9j-o3iM1zIg"
      },
      "execution_count": null,
      "outputs": []
    }
  ]
}